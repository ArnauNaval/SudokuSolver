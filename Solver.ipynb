{
 "cells": [
  {
   "cell_type": "markdown",
   "metadata": {},
   "source": [
    "<div class=\"alert alert-info\">\n",
    "<center>\n",
    "  <h1>Backtracking</h1>\n",
    "</center>\n",
    "</div>"
   ]
  },
  {
   "cell_type": "code",
   "execution_count": 77,
   "metadata": {
    "collapsed": true
   },
   "outputs": [],
   "source": [
    "def sudoku_solver(s):\n",
    "    \n",
    "    posicio = s.get_empty()\n",
    "    \n",
    "    if len(posicio)<= 0:\n",
    "        return s\n",
    "    \n",
    "    for num in s.get_valid(posicio[0]):\n",
    "        sudoku = sudoku_solver(s.set_number(posicio[0],num))\n",
    "        if sudoku:\n",
    "            return sudoku\n",
    "    return False\n",
    "        "
   ]
  },
  {
   "cell_type": "code",
   "execution_count": 78,
   "metadata": {},
   "outputs": [
    {
     "name": "stdout",
     "output_type": "stream",
     "text": [
      "2.68 s ± 23.1 ms per loop (mean ± std. dev. of 7 runs, 1 loop each)\n",
      "+-------+-------+-------+\n",
      "| 4 6 2 | 8 3 1 | 9 5 7 |\n",
      "| 7 9 5 | 4 2 6 | 1 8 3 |\n",
      "| 3 8 1 | 7 9 5 | 4 2 6 |\n",
      "+-------+-------+-------+\n",
      "| 1 7 3 | 9 8 4 | 2 6 5 |\n",
      "| 6 5 9 | 3 1 2 | 7 4 8 |\n",
      "| 2 4 8 | 5 6 7 | 3 1 9 |\n",
      "+-------+-------+-------+\n",
      "| 9 2 6 | 1 7 8 | 5 3 4 |\n",
      "| 8 3 4 | 2 5 9 | 6 7 1 |\n",
      "| 5 1 7 | 6 4 3 | 8 9 2 |\n",
      "+-------+-------+-------+\n",
      "\n"
     ]
    }
   ],
   "source": [
    "s2 = Sudoku('sudoku/s3')\n",
    "%timeit sudoku_solver(s2)\n",
    "print(sudoku_solver(s2))"
   ]
  },
  {
   "cell_type": "markdown",
   "metadata": {},
   "source": [
    "<div class=\"alert alert-info\">\n",
    "<center>\n",
    "  <h1>Branch & Bound</h1>\n",
    "</center>\n",
    "</div>"
   ]
  },
  {
   "cell_type": "code",
   "execution_count": 3,
   "metadata": {},
   "outputs": [
    {
     "name": "stdout",
     "output_type": "stream",
     "text": [
      "Ejemplo de tablero resuelto:\n",
      "+-----------+\n",
      "|   | 5 | 8 | \n",
      "+-----------+\n",
      "| 2 | 7 | 3 | \n",
      "+-----------+\n",
      "| 1 | 4 | 6 | \n",
      "+-----------+\n",
      "\n"
     ]
    }
   ],
   "source": [
    "from npuzzle import NPuzzle\n",
    "\n",
    "board = NPuzzle()\n",
    "board.create_board(moves=100)\n",
    "\n",
    "print (\"Ejemplo de tablero resuelto:\")\n",
    "print(board)\n"
   ]
  },
  {
   "cell_type": "code",
   "execution_count": 63,
   "metadata": {},
   "outputs": [],
   "source": [
    "%reset -f\n",
    "from npuzzle import NPuzzle\n",
    "from graphlib import Graph\n",
    "\n",
    "def solve(board):\n",
    "    \n",
    "    moviments = 99999\n",
    "    taula_sol = None\n",
    "    \n",
    "    dist = board.manhattan_distance()\n",
    "    estat = (dist,0,board)\n",
    "    pending = [estat]\n",
    "    visited = [board.get_state_id()]\n",
    "    \n",
    "    while len(pending)!=0:\n",
    "        \n",
    "        distancia,profunditat,taula = pending.pop(0)\n",
    "        \n",
    "        if profunditat > moviments:\n",
    "            continue\n",
    "        if taula.state():\n",
    "            moviments = profunditat\n",
    "            taula_sol = taula\n",
    "            continue\n",
    "            \n",
    "        for mov in taula.allowed_moves():\n",
    "            new_taula = taula.move(mov)\n",
    "            if new_taula.get_state_id() not in visited:\n",
    "                pending.append((new_taula.manhattan_distance(),profunditat+1,new_taula))\n",
    "                visited.append(new_taula.get_state_id())\n",
    "    \n",
    "        pending.sort(key=lambda x:x[0])\n",
    "    \n",
    "    return moviments, taula_sol\n",
    "    "
   ]
  },
  {
   "cell_type": "code",
   "execution_count": 64,
   "metadata": {},
   "outputs": [
    {
     "name": "stdout",
     "output_type": "stream",
     "text": [
      "+----------------------------------+\n",
      "|  1 |  2 |  3 |  4 |  5 |  6 |  7 | \n",
      "+----------------------------------+\n",
      "|  8 |  9 | 10 | 11 | 12 | 13 | 14 | \n",
      "+----------------------------------+\n",
      "| 15 | 16 | 17 | 18 | 19 | 20 | 21 | \n",
      "+----------------------------------+\n",
      "| 22 | 23 | 24 | 25 | 26 | 27 | 28 | \n",
      "+----------------------------------+\n",
      "| 29 | 30 | 31 | 32 | 33 | 34 |    | \n",
      "+----------------------------------+\n",
      "| 36 | 37 | 38 | 39 | 40 | 41 | 35 | \n",
      "+----------------------------------+\n",
      "| 43 | 44 | 45 | 46 | 47 | 48 | 42 | \n",
      "+----------------------------------+\n",
      "\n",
      "Solved with 2 moves\n",
      "Final board\n",
      "+----------------------------------+\n",
      "|  1 |  2 |  3 |  4 |  5 |  6 |  7 | \n",
      "+----------------------------------+\n",
      "|  8 |  9 | 10 | 11 | 12 | 13 | 14 | \n",
      "+----------------------------------+\n",
      "| 15 | 16 | 17 | 18 | 19 | 20 | 21 | \n",
      "+----------------------------------+\n",
      "| 22 | 23 | 24 | 25 | 26 | 27 | 28 | \n",
      "+----------------------------------+\n",
      "| 29 | 30 | 31 | 32 | 33 | 34 | 35 | \n",
      "+----------------------------------+\n",
      "| 36 | 37 | 38 | 39 | 40 | 41 | 42 | \n",
      "+----------------------------------+\n",
      "| 43 | 44 | 45 | 46 | 47 | 48 |    | \n",
      "+----------------------------------+\n",
      "\n"
     ]
    }
   ],
   "source": [
    "# TEST #\n",
    "board = NPuzzle()\n",
    "board.create_board(moves=10, n=7)\n",
    "print(board)\n",
    "distance, final_board = solve(board)\n",
    "print (\"Solved with %i moves\" % distance)\n",
    "print (\"Final board\")\n",
    "print (final_board)"
   ]
  },
  {
   "cell_type": "code",
   "execution_count": null,
   "metadata": {
    "collapsed": true
   },
   "outputs": [],
   "source": [
    "\n"
   ]
  }
 ],
 "metadata": {
  "kernelspec": {
   "display_name": "Python 3",
   "language": "python",
   "name": "python3"
  },
  "language_info": {
   "codemirror_mode": {
    "name": "ipython",
    "version": 3
   },
   "file_extension": ".py",
   "mimetype": "text/x-python",
   "name": "python",
   "nbconvert_exporter": "python",
   "pygments_lexer": "ipython3",
   "version": "3.6.5"
  }
 },
 "nbformat": 4,
 "nbformat_minor": 1
}
